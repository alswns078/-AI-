{
 "cells": [
  {
   "cell_type": "code",
   "execution_count": 24,
   "metadata": {},
   "outputs": [],
   "source": [
    "import os\n",
    "import csv\n",
    "from tqdm import tqdm\n",
    "import pdfplumber"
   ]
  },
  {
   "cell_type": "code",
   "execution_count": 25,
   "metadata": {},
   "outputs": [],
   "source": [
    "def is_within_table(word_bbox, table_areas):\n",
    "    for table_bbox in table_areas:\n",
    "        if (word_bbox[0] >= table_bbox[0] and word_bbox[2] <= table_bbox[2] and\n",
    "            word_bbox[1] >= table_bbox[1] and word_bbox[3] <= table_bbox[3]):\n",
    "            return True\n",
    "    return False\n",
    "\n",
    "def extract_word_and_tables(page, doc_id):\n",
    "\n",
    "    tables = page.find_tables()\n",
    "    table_areas = [table.bbox for table in tables]\n",
    "\n",
    "    items = []\n",
    "\n",
    "    words = page.extract_words()\n",
    "\n",
    "    cnt = 0\n",
    "\n",
    "    for word_info in words:\n",
    "        word_bbox = (word_info['x0'], word_info['top'], word_info['x1'], word_info['bottom'])\n",
    "\n",
    "        if not is_within_table(word_bbox, table_areas):\n",
    "            # print(word_info['text'], cnt)\n",
    "            items.append(('text', word_bbox, word_info['text'], cnt))\n",
    "        else:\n",
    "            pass\n",
    "            # items.append(('table_text', word_bbox, word_info['text']))\n",
    "        cnt += 1\n",
    "\n",
    "    # 테이블 추출 및 위치 기록\n",
    "    for table in tables:\n",
    "        items.append(('table', table.bbox, table.extract(), None))\n",
    "\n",
    "    # y좌표, cnt 기준 정렬\n",
    "    items.sort(key=lambda x: (x[1][1], x[3]))\n",
    "\n",
    "    # None나오기 전까지 cnt로 다시 정렬 -> y좌표가 애매할 때가 있어서 순서 섞임\n",
    "    sorted_items = []\n",
    "    start_idx = 0\n",
    "\n",
    "    for idx, item in enumerate(items):\n",
    "        if item[3] is None:\n",
    "            # None이 나오기 전까지의 부분 items를 x[3](cnt)에 대해 정렬\n",
    "            sorted_items.extend(sorted(items[start_idx:idx], key=lambda x: x[3]))\n",
    "            # None인 원소는 그대로 추가\n",
    "            sorted_items.append(item)\n",
    "            start_idx = idx + 1\n",
    "\n",
    "    # 마지막 구간 정렬\n",
    "    if start_idx < len(items):\n",
    "        sorted_items.extend(sorted(items[start_idx:], key=lambda x: x[3]))\n",
    "\n",
    "    doc = doc_id + ' '  # chunk에 문서 제목 추가\n",
    "    \n",
    "    for item in sorted_items:\n",
    "        if item[0] == 'text':\n",
    "            doc = doc + item[2] + ' '\n",
    "            # print(item[2], end=' ')\n",
    "        elif item[0] == 'table':\n",
    "            doc = doc + '이와 관련된 표.\\n'\n",
    "            # print(\"이와 관련된 표.\")\n",
    "            for row in item[2]:\n",
    "                processed_row = []\n",
    "                for cell in row:\n",
    "                    if cell is not None:\n",
    "                        cell = cell.replace('\\n', ' ')\n",
    "                    if not cell:\n",
    "                        cell = 'x'\n",
    "                    processed_row.append(cell)\n",
    "                doc = doc + ' | '.join(processed_row)\n",
    "                # print(' | '.join(processed_row))\n",
    "                # print(row)\n",
    "                doc = doc + \" \\n \"\n",
    "            doc = doc + \" \\n \"\n",
    "            # print(\"\\n\")\n",
    "        elif item[0] == 'table_text':\n",
    "            pass\n",
    "    # print(\"\\n\")\n",
    "    return doc"
   ]
  },
  {
   "cell_type": "code",
   "execution_count": 26,
   "metadata": {},
   "outputs": [
    {
     "name": "stdout",
     "output_type": "stream",
     "text": [
      "「FIS 이슈 & 포커스」 23-3호 《조세지출 연계관리》\n"
     ]
    },
    {
     "name": "stderr",
     "output_type": "stream",
     "text": [
      "100%|██████████| 9/9 [00:02<00:00,  4.01it/s]\n"
     ]
    },
    {
     "name": "stdout",
     "output_type": "stream",
     "text": [
      "국토교통부_소규모주택정비사업\n"
     ]
    },
    {
     "name": "stderr",
     "output_type": "stream",
     "text": [
      "100%|██████████| 4/4 [00:03<00:00,  1.15it/s]\n"
     ]
    },
    {
     "name": "stdout",
     "output_type": "stream",
     "text": [
      "국토교통부_전세임대(융자)\n"
     ]
    },
    {
     "name": "stderr",
     "output_type": "stream",
     "text": [
      "100%|██████████| 4/4 [00:01<00:00,  2.89it/s]\n"
     ]
    },
    {
     "name": "stdout",
     "output_type": "stream",
     "text": [
      "보건복지부_생계급여\n"
     ]
    },
    {
     "name": "stderr",
     "output_type": "stream",
     "text": [
      "100%|██████████| 4/4 [00:00<00:00,  5.84it/s]\n"
     ]
    },
    {
     "name": "stdout",
     "output_type": "stream",
     "text": [
      "2024 나라살림 예산개요\n"
     ]
    },
    {
     "name": "stderr",
     "output_type": "stream",
     "text": [
      "100%|██████████| 314/314 [01:37<00:00,  3.22it/s]\n"
     ]
    },
    {
     "name": "stdout",
     "output_type": "stream",
     "text": [
      "2024년도 성과계획서(총괄편)\n"
     ]
    },
    {
     "name": "stderr",
     "output_type": "stream",
     "text": [
      "100%|██████████| 345/345 [01:40<00:00,  3.44it/s]\n"
     ]
    },
    {
     "name": "stdout",
     "output_type": "stream",
     "text": [
      "월간 나라재정 2023년 12월호\n"
     ]
    },
    {
     "name": "stderr",
     "output_type": "stream",
     "text": [
      "100%|██████████| 68/68 [00:34<00:00,  1.99it/s]\n"
     ]
    },
    {
     "name": "stdout",
     "output_type": "stream",
     "text": [
      "재정통계해설\n"
     ]
    },
    {
     "name": "stderr",
     "output_type": "stream",
     "text": [
      "100%|██████████| 164/164 [00:18<00:00,  8.67it/s]\n"
     ]
    },
    {
     "name": "stdout",
     "output_type": "stream",
     "text": [
      "「FIS 이슈 & 포커스」 22-3호 《재정융자사업》\n"
     ]
    },
    {
     "name": "stderr",
     "output_type": "stream",
     "text": [
      "100%|██████████| 9/9 [00:02<00:00,  3.18it/s]\n"
     ]
    },
    {
     "name": "stdout",
     "output_type": "stream",
     "text": [
      "고용노동부_청년일자리창출지원\n"
     ]
    },
    {
     "name": "stderr",
     "output_type": "stream",
     "text": [
      "100%|██████████| 3/3 [00:01<00:00,  2.17it/s]\n"
     ]
    },
    {
     "name": "stdout",
     "output_type": "stream",
     "text": [
      "1-1 2024 주요 재정통계 1권\n"
     ]
    },
    {
     "name": "stderr",
     "output_type": "stream",
     "text": [
      "100%|██████████| 137/137 [00:11<00:00, 12.16it/s]\n"
     ]
    },
    {
     "name": "stdout",
     "output_type": "stream",
     "text": [
      "보건복지부_노인일자리 및 사회활동지원\n"
     ]
    },
    {
     "name": "stderr",
     "output_type": "stream",
     "text": [
      "100%|██████████| 5/5 [00:00<00:00,  5.10it/s]\n"
     ]
    },
    {
     "name": "stdout",
     "output_type": "stream",
     "text": [
      "국토교통부_민간임대(융자)\n"
     ]
    },
    {
     "name": "stderr",
     "output_type": "stream",
     "text": [
      "100%|██████████| 3/3 [00:01<00:00,  2.14it/s]\n"
     ]
    },
    {
     "name": "stdout",
     "output_type": "stream",
     "text": [
      "고용노동부_내일배움카드(일반)\n"
     ]
    },
    {
     "name": "stderr",
     "output_type": "stream",
     "text": [
      "100%|██████████| 4/4 [00:00<00:00,  6.16it/s]\n"
     ]
    },
    {
     "name": "stdout",
     "output_type": "stream",
     "text": [
      "중소벤처기업부_창업사업화지원\n"
     ]
    },
    {
     "name": "stderr",
     "output_type": "stream",
     "text": [
      "100%|██████████| 2/2 [00:00<00:00,  3.59it/s]\n"
     ]
    },
    {
     "name": "stdout",
     "output_type": "stream",
     "text": [
      "고용노동부_조기재취업수당\n"
     ]
    },
    {
     "name": "stderr",
     "output_type": "stream",
     "text": [
      "100%|██████████| 3/3 [00:01<00:00,  2.69it/s]\n"
     ]
    }
   ],
   "source": [
    "cur_path = os.getcwd()\n",
    "data_dir = os.path.join(cur_path, './data/train_source/')\n",
    "pdf_files = [f for f in os.listdir(data_dir) if f.endswith('.pdf')]\n",
    "\n",
    "csv_file_path = os.path.join(cur_path, './processed_data/train_data.csv')\n",
    "\n",
    "with open(csv_file_path, mode='w', newline='', encoding='utf-8') as csv_file:\n",
    "    writer = csv.writer(csv_file)\n",
    "    writer.writerow(['doc_id', 'doc'])\n",
    "\n",
    "for pdf_file in pdf_files:\n",
    "    file_name, _ = os.path.splitext(pdf_file)\n",
    "    print(file_name)\n",
    "    with pdfplumber.open(data_dir + pdf_file) as pdf:\n",
    "        for page_num, page in enumerate(tqdm(pdf.pages)):\n",
    "\n",
    "            page_width = page.width\n",
    "            \n",
    "            if page_width > 600:\n",
    "                mid_x = page_width / 2\n",
    "                \n",
    "                tables = page.find_tables()\n",
    "                table_areas = [table.bbox for table in tables]\n",
    "\n",
    "                words_and_tables = []\n",
    "\n",
    "                left_clip = (0, 0, mid_x, page.height)\n",
    "                right_clip = (mid_x, 0, page_width, page.height)\n",
    "\n",
    "                left_page = page.within_bbox(left_clip)\n",
    "                right_page = page.within_bbox(right_clip)\n",
    "\n",
    "                # print(f'{page_num} left page: ')\n",
    "                left_doc = extract_word_and_tables(left_page, file_name)\n",
    "                left_doc_id = file_name + str(page_num) + '1'\n",
    "                # print(doc)\n",
    "\n",
    "                # print(f'{page_num} right page: ')\n",
    "                right_doc = extract_word_and_tables(right_page, file_name)\n",
    "                right_doc_id = file_name + str(page_num) + '2'\n",
    "                # print(doc)\n",
    "\n",
    "                with open(csv_file_path, mode='a', newline='', encoding='utf-8') as csv_file:\n",
    "                    writer = csv.writer(csv_file)\n",
    "                    writer.writerow([left_doc_id, left_doc])\n",
    "                    writer.writerow([right_doc_id, right_doc])\n",
    "\n",
    "            else:\n",
    "                # print(f'{page_num} less than 600pt: ')\n",
    "                doc = extract_word_and_tables(page, file_name)\n",
    "                doc_id = file_name + str(page_num) + '0'\n",
    "                # print(doc)\n",
    "                with open(csv_file_path, mode='a', newline='', encoding='utf-8') as csv_file:\n",
    "                    writer = csv.writer(csv_file)\n",
    "                    writer.writerow([doc_id, doc])\n",
    "\n"
   ]
  }
 ],
 "metadata": {
  "kernelspec": {
   "display_name": "mecab",
   "language": "python",
   "name": "python3"
  },
  "language_info": {
   "codemirror_mode": {
    "name": "ipython",
    "version": 3
   },
   "file_extension": ".py",
   "mimetype": "text/x-python",
   "name": "python",
   "nbconvert_exporter": "python",
   "pygments_lexer": "ipython3",
   "version": "3.10.14"
  }
 },
 "nbformat": 4,
 "nbformat_minor": 2
}
