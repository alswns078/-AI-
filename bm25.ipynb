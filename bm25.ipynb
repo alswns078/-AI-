{
 "cells": [
  {
   "cell_type": "code",
   "execution_count": 1,
   "metadata": {},
   "outputs": [],
   "source": [
    "import os\n",
    "import pandas as pd\n",
    "import numpy as np\n",
    "from tqdm import tqdm\n",
    "from rank_bm25 import BM25Okapi\n",
    "from konlpy.tag import Mecab"
   ]
  },
  {
   "cell_type": "code",
   "execution_count": 2,
   "metadata": {},
   "outputs": [],
   "source": [
    "train_df = pd.read_csv('./data/train.csv')"
   ]
  },
  {
   "cell_type": "code",
   "execution_count": 3,
   "metadata": {},
   "outputs": [
    {
     "name": "stdout",
     "output_type": "stream",
     "text": [
      "496 496 496\n"
     ]
    }
   ],
   "source": [
    "q_ids = train_df['SAMPLE_ID'].tolist()\n",
    "q_answers = train_df['Source'].tolist()\n",
    "queries = train_df['Question'].tolist()\n",
    "print(len(q_ids), len(q_answers), len(queries))"
   ]
  },
  {
   "cell_type": "code",
   "execution_count": 4,
   "metadata": {},
   "outputs": [],
   "source": [
    "doc_df = pd.read_csv('./data/processed_train.csv')"
   ]
  },
  {
   "cell_type": "code",
   "execution_count": 5,
   "metadata": {},
   "outputs": [
    {
     "name": "stdout",
     "output_type": "stream",
     "text": [
      "1092 1092\n"
     ]
    }
   ],
   "source": [
    "doc_ids = doc_df['doc_id'].tolist()\n",
    "docs = doc_df['doc'].tolist()\n",
    "print(len(doc_ids), len(docs))"
   ]
  },
  {
   "cell_type": "code",
   "execution_count": 6,
   "metadata": {},
   "outputs": [
    {
     "name": "stderr",
     "output_type": "stream",
     "text": [
      "100%|██████████| 1092/1092 [00:01<00:00, 995.65it/s] \n",
      "100%|██████████| 496/496 [00:00<00:00, 15282.04it/s]\n"
     ]
    }
   ],
   "source": [
    "mecab = Mecab()\n",
    "tokenized_doc = [mecab.morphs(doc) for doc in tqdm(docs)]\n",
    "tokenized_q = [mecab.morphs(q) for q in tqdm(queries)]"
   ]
  },
  {
   "cell_type": "code",
   "execution_count": 7,
   "metadata": {},
   "outputs": [],
   "source": [
    "bm25 = BM25Okapi(tokenized_doc)"
   ]
  },
  {
   "cell_type": "code",
   "execution_count": 43,
   "metadata": {},
   "outputs": [
    {
     "name": "stderr",
     "output_type": "stream",
     "text": [
      "100%|██████████| 496/496 [00:02<00:00, 177.20it/s]"
     ]
    },
    {
     "name": "stdout",
     "output_type": "stream",
     "text": [
      "357\n",
      "457\n",
      "474\n",
      "486\n"
     ]
    },
    {
     "name": "stderr",
     "output_type": "stream",
     "text": [
      "\n"
     ]
    }
   ],
   "source": [
    "bm25 = BM25Okapi(tokenized_doc, b=1.0, k1=2.5)\n",
    "top_k = 20\n",
    "\n",
    "recall1, recall5, recall10, recall20 = 0, 0, 0, 0\n",
    "\n",
    "for i, tq in enumerate(tqdm(tokenized_q)):\n",
    "    answer = q_answers[i]\n",
    "    doc_scores = bm25.get_scores(tq)\n",
    "    top_indices = np.argsort(doc_scores)[-top_k:][::-1]\n",
    "\n",
    "    for rank, idx in enumerate(top_indices):\n",
    "        if answer in doc_ids[idx]:\n",
    "            if rank < 1:\n",
    "                recall1 += 1\n",
    "            if rank < 5:\n",
    "                recall5 += 1\n",
    "            if rank < 10:\n",
    "                recall10 += 1\n",
    "            if rank < 20:\n",
    "                recall20 += 1\n",
    "            break\n",
    "\n",
    "print(recall1)\n",
    "print(recall5)\n",
    "print(recall10)\n",
    "print(recall20)\n",
    "# 348\n",
    "# 455\n",
    "# 473\n",
    "# 488"
   ]
  },
  {
   "cell_type": "code",
   "execution_count": 42,
   "metadata": {},
   "outputs": [
    {
     "name": "stderr",
     "output_type": "stream",
     "text": [
      "  0%|          | 0/496 [00:00<?, ?it/s]"
     ]
    },
    {
     "name": "stderr",
     "output_type": "stream",
     "text": [
      "100%|██████████| 496/496 [00:02<00:00, 177.96it/s]\n"
     ]
    },
    {
     "name": "stdout",
     "output_type": "stream",
     "text": [
      "b: 0.7, k1: 1.5, Recall Scores: {'recall1': 318, 'recall5': 442, 'recall10': 471, 'recall20': 484}, Overall Score: 318.0000\n"
     ]
    },
    {
     "name": "stderr",
     "output_type": "stream",
     "text": [
      "100%|██████████| 496/496 [00:02<00:00, 178.56it/s]\n"
     ]
    },
    {
     "name": "stdout",
     "output_type": "stream",
     "text": [
      "b: 0.7, k1: 1.75, Recall Scores: {'recall1': 326, 'recall5': 445, 'recall10': 472, 'recall20': 481}, Overall Score: 326.0000\n"
     ]
    },
    {
     "name": "stderr",
     "output_type": "stream",
     "text": [
      "100%|██████████| 496/496 [00:02<00:00, 179.17it/s]\n"
     ]
    },
    {
     "name": "stdout",
     "output_type": "stream",
     "text": [
      "b: 0.7, k1: 2.0, Recall Scores: {'recall1': 329, 'recall5': 448, 'recall10': 471, 'recall20': 483}, Overall Score: 329.0000\n"
     ]
    },
    {
     "name": "stderr",
     "output_type": "stream",
     "text": [
      "100%|██████████| 496/496 [00:02<00:00, 179.01it/s]\n"
     ]
    },
    {
     "name": "stdout",
     "output_type": "stream",
     "text": [
      "b: 0.7, k1: 2.25, Recall Scores: {'recall1': 333, 'recall5': 448, 'recall10': 471, 'recall20': 481}, Overall Score: 333.0000\n"
     ]
    },
    {
     "name": "stderr",
     "output_type": "stream",
     "text": [
      "100%|██████████| 496/496 [00:02<00:00, 176.52it/s]\n"
     ]
    },
    {
     "name": "stdout",
     "output_type": "stream",
     "text": [
      "b: 0.7, k1: 2.5, Recall Scores: {'recall1': 337, 'recall5': 453, 'recall10': 471, 'recall20': 481}, Overall Score: 337.0000\n"
     ]
    },
    {
     "name": "stderr",
     "output_type": "stream",
     "text": [
      "100%|██████████| 496/496 [00:02<00:00, 177.21it/s]\n"
     ]
    },
    {
     "name": "stdout",
     "output_type": "stream",
     "text": [
      "b: 0.8, k1: 1.5, Recall Scores: {'recall1': 324, 'recall5': 448, 'recall10': 474, 'recall20': 486}, Overall Score: 324.0000\n"
     ]
    },
    {
     "name": "stderr",
     "output_type": "stream",
     "text": [
      "100%|██████████| 496/496 [00:02<00:00, 177.20it/s]\n"
     ]
    },
    {
     "name": "stdout",
     "output_type": "stream",
     "text": [
      "b: 0.8, k1: 1.75, Recall Scores: {'recall1': 328, 'recall5': 449, 'recall10': 474, 'recall20': 484}, Overall Score: 328.0000\n"
     ]
    },
    {
     "name": "stderr",
     "output_type": "stream",
     "text": [
      "100%|██████████| 496/496 [00:02<00:00, 180.05it/s]\n"
     ]
    },
    {
     "name": "stdout",
     "output_type": "stream",
     "text": [
      "b: 0.8, k1: 2.0, Recall Scores: {'recall1': 336, 'recall5': 451, 'recall10': 473, 'recall20': 484}, Overall Score: 336.0000\n"
     ]
    },
    {
     "name": "stderr",
     "output_type": "stream",
     "text": [
      "100%|██████████| 496/496 [00:02<00:00, 177.77it/s]\n"
     ]
    },
    {
     "name": "stdout",
     "output_type": "stream",
     "text": [
      "b: 0.8, k1: 2.25, Recall Scores: {'recall1': 342, 'recall5': 455, 'recall10': 474, 'recall20': 484}, Overall Score: 342.0000\n"
     ]
    },
    {
     "name": "stderr",
     "output_type": "stream",
     "text": [
      "100%|██████████| 496/496 [00:02<00:00, 178.24it/s]\n"
     ]
    },
    {
     "name": "stdout",
     "output_type": "stream",
     "text": [
      "b: 0.8, k1: 2.5, Recall Scores: {'recall1': 344, 'recall5': 454, 'recall10': 474, 'recall20': 483}, Overall Score: 344.0000\n"
     ]
    },
    {
     "name": "stderr",
     "output_type": "stream",
     "text": [
      "100%|██████████| 496/496 [00:02<00:00, 176.42it/s]\n"
     ]
    },
    {
     "name": "stdout",
     "output_type": "stream",
     "text": [
      "b: 0.9, k1: 1.5, Recall Scores: {'recall1': 327, 'recall5': 450, 'recall10': 474, 'recall20': 489}, Overall Score: 327.0000\n"
     ]
    },
    {
     "name": "stderr",
     "output_type": "stream",
     "text": [
      "100%|██████████| 496/496 [00:02<00:00, 177.67it/s]\n"
     ]
    },
    {
     "name": "stdout",
     "output_type": "stream",
     "text": [
      "b: 0.9, k1: 1.75, Recall Scores: {'recall1': 339, 'recall5': 452, 'recall10': 474, 'recall20': 488}, Overall Score: 339.0000\n"
     ]
    },
    {
     "name": "stderr",
     "output_type": "stream",
     "text": [
      "100%|██████████| 496/496 [00:02<00:00, 179.02it/s]\n"
     ]
    },
    {
     "name": "stdout",
     "output_type": "stream",
     "text": [
      "b: 0.9, k1: 2.0, Recall Scores: {'recall1': 344, 'recall5': 453, 'recall10': 475, 'recall20': 485}, Overall Score: 344.0000\n"
     ]
    },
    {
     "name": "stderr",
     "output_type": "stream",
     "text": [
      "100%|██████████| 496/496 [00:02<00:00, 176.35it/s]\n"
     ]
    },
    {
     "name": "stdout",
     "output_type": "stream",
     "text": [
      "b: 0.9, k1: 2.25, Recall Scores: {'recall1': 350, 'recall5': 454, 'recall10': 472, 'recall20': 485}, Overall Score: 350.0000\n"
     ]
    },
    {
     "name": "stderr",
     "output_type": "stream",
     "text": [
      "100%|██████████| 496/496 [00:02<00:00, 175.51it/s]\n"
     ]
    },
    {
     "name": "stdout",
     "output_type": "stream",
     "text": [
      "b: 0.9, k1: 2.5, Recall Scores: {'recall1': 350, 'recall5': 455, 'recall10': 472, 'recall20': 484}, Overall Score: 350.0000\n"
     ]
    },
    {
     "name": "stderr",
     "output_type": "stream",
     "text": [
      "100%|██████████| 496/496 [00:02<00:00, 176.85it/s]\n"
     ]
    },
    {
     "name": "stdout",
     "output_type": "stream",
     "text": [
      "b: 1.0, k1: 1.5, Recall Scores: {'recall1': 332, 'recall5': 453, 'recall10': 475, 'recall20': 489}, Overall Score: 332.0000\n"
     ]
    },
    {
     "name": "stderr",
     "output_type": "stream",
     "text": [
      "100%|██████████| 496/496 [00:02<00:00, 176.84it/s]\n"
     ]
    },
    {
     "name": "stdout",
     "output_type": "stream",
     "text": [
      "b: 1.0, k1: 1.75, Recall Scores: {'recall1': 343, 'recall5': 455, 'recall10': 475, 'recall20': 488}, Overall Score: 343.0000\n"
     ]
    },
    {
     "name": "stderr",
     "output_type": "stream",
     "text": [
      "100%|██████████| 496/496 [00:02<00:00, 177.63it/s]\n"
     ]
    },
    {
     "name": "stdout",
     "output_type": "stream",
     "text": [
      "b: 1.0, k1: 2.0, Recall Scores: {'recall1': 348, 'recall5': 455, 'recall10': 473, 'recall20': 488}, Overall Score: 348.0000\n"
     ]
    },
    {
     "name": "stderr",
     "output_type": "stream",
     "text": [
      "100%|██████████| 496/496 [00:02<00:00, 173.51it/s]\n"
     ]
    },
    {
     "name": "stdout",
     "output_type": "stream",
     "text": [
      "b: 1.0, k1: 2.25, Recall Scores: {'recall1': 351, 'recall5': 457, 'recall10': 475, 'recall20': 487}, Overall Score: 351.0000\n"
     ]
    },
    {
     "name": "stderr",
     "output_type": "stream",
     "text": [
      "100%|██████████| 496/496 [00:02<00:00, 178.04it/s]"
     ]
    },
    {
     "name": "stdout",
     "output_type": "stream",
     "text": [
      "b: 1.0, k1: 2.5, Recall Scores: {'recall1': 357, 'recall5': 457, 'recall10': 474, 'recall20': 486}, Overall Score: 357.0000\n",
      "Best Score: 357.0000\n",
      "Best Parameters: b = 1.0, k1 = 2.5\n"
     ]
    },
    {
     "name": "stderr",
     "output_type": "stream",
     "text": [
      "\n"
     ]
    }
   ],
   "source": [
    "\n",
    "best_score = 0\n",
    "best_params = {'b': 0, 'k1': 0}\n",
    "\n",
    "b_values = [0.7, 0.8, 0.9, 1.0]\n",
    "k1_values = [1.5, 1.75, 2.0, 2.25, 2.5]\n",
    "\n",
    "def calculate_recall(bm25, top_k=20):\n",
    "    recall1, recall5, recall10, recall20 = 0, 0, 0, 0\n",
    "    for i, tq in enumerate(tqdm(tokenized_q)):\n",
    "        answer = q_answers[i]\n",
    "        doc_scores = bm25.get_scores(tq)\n",
    "        top_indices = np.argsort(doc_scores)[-top_k:][::-1]\n",
    "\n",
    "        for rank, idx in enumerate(top_indices):\n",
    "            if answer in doc_ids[idx]:\n",
    "                if rank < 1:\n",
    "                    recall1 += 1\n",
    "                if rank < 5:\n",
    "                    recall5 += 1\n",
    "                if rank < 10:\n",
    "                    recall10 += 1\n",
    "                if rank < 20:\n",
    "                    recall20 += 1\n",
    "                break\n",
    "    total_queries = len(tokenized_q)\n",
    "    recall_scores = {\n",
    "        'recall1': recall1,\n",
    "        'recall5': recall5,\n",
    "        'recall10': recall10,\n",
    "        'recall20': recall20\n",
    "    }\n",
    "    return recall_scores\n",
    "\n",
    "\n",
    "for b in b_values:\n",
    "    for k1 in k1_values:\n",
    "        bm25 = BM25Okapi(tokenized_doc, b=b, k1=k1)\n",
    "        recall_scores = calculate_recall(bm25)\n",
    "\n",
    "        overall_score = recall_scores['recall1']\n",
    "        print(f\"b: {b}, k1: {k1}, Recall Scores: {recall_scores}, Overall Score: {overall_score:.4f}\")\n",
    "\n",
    "        if overall_score > best_score:\n",
    "            best_score = overall_score\n",
    "            best_params['b'] = b\n",
    "            best_params['k1'] = k1\n",
    "\n",
    "print(f\"Best Score: {best_score:.4f}\")\n",
    "print(f\"Best Parameters: b = {best_params['b']}, k1 = {best_params['k1']}\")\n"
   ]
  }
 ],
 "metadata": {
  "kernelspec": {
   "display_name": "mecab",
   "language": "python",
   "name": "python3"
  },
  "language_info": {
   "codemirror_mode": {
    "name": "ipython",
    "version": 3
   },
   "file_extension": ".py",
   "mimetype": "text/x-python",
   "name": "python",
   "nbconvert_exporter": "python",
   "pygments_lexer": "ipython3",
   "version": "3.10.14"
  }
 },
 "nbformat": 4,
 "nbformat_minor": 2
}
