{
 "cells": [
  {
   "cell_type": "code",
   "execution_count": 1,
   "metadata": {},
   "outputs": [],
   "source": [
    "import os\n",
    "import pandas as pd\n",
    "import numpy as np\n",
    "from tqdm import tqdm\n",
    "from rank_bm25 import BM25Okapi\n",
    "from konlpy.tag import Mecab\n",
    "from collections import defaultdict"
   ]
  },
  {
   "cell_type": "code",
   "execution_count": 2,
   "metadata": {},
   "outputs": [
    {
     "name": "stdout",
     "output_type": "stream",
     "text": [
      "496\n",
      "490\n"
     ]
    }
   ],
   "source": [
    "train_df = pd.read_csv('./data/labeled_train.csv')\n",
    "print(len(train_df))\n",
    "train_df = train_df[train_df['page'] != '없음']\n",
    "print(len(train_df))"
   ]
  },
  {
   "cell_type": "code",
   "execution_count": 3,
   "metadata": {},
   "outputs": [],
   "source": [
    "q_ids = train_df['SAMPLE_ID'].tolist()\n",
    "q_source = train_df['Source'].tolist()\n",
    "q_page = train_df['page'].tolist()\n",
    "queries = train_df['Question'].tolist()"
   ]
  },
  {
   "cell_type": "code",
   "execution_count": 4,
   "metadata": {},
   "outputs": [],
   "source": [
    "q_answers = []\n",
    "for i, cell in enumerate(q_page):\n",
    "    q_page[i] = [x.strip() for x in cell.split(\",\")]\n",
    "    cell_answers = []\n",
    "    for j, subcell in enumerate(q_page[i]):\n",
    "        if '-' in subcell:\n",
    "            q_page[i][j] = subcell.replace(\"-\", \"\")\n",
    "        else:\n",
    "            q_page[i][j] = subcell + \"0\"\n",
    "        cell_answers.append(q_source[i] + \" \" + q_page[i][j])\n",
    "    q_answers.append(cell_answers)"
   ]
  },
  {
   "cell_type": "code",
   "execution_count": 5,
   "metadata": {},
   "outputs": [],
   "source": [
    "doc_df = pd.read_csv('./data/processed_train.csv')"
   ]
  },
  {
   "cell_type": "code",
   "execution_count": 6,
   "metadata": {},
   "outputs": [
    {
     "name": "stdout",
     "output_type": "stream",
     "text": [
      "1092\n"
     ]
    }
   ],
   "source": [
    "doc_ids = doc_df['doc_id'].tolist()\n",
    "docs = doc_df['doc'].tolist()\n",
    "print(len(doc_df))"
   ]
  },
  {
   "cell_type": "code",
   "execution_count": 7,
   "metadata": {},
   "outputs": [
    {
     "name": "stderr",
     "output_type": "stream",
     "text": [
      "  0%|          | 0/1092 [00:00<?, ?it/s]"
     ]
    },
    {
     "name": "stderr",
     "output_type": "stream",
     "text": [
      "100%|██████████| 1092/1092 [00:01<00:00, 983.85it/s] \n",
      "100%|██████████| 490/490 [00:00<00:00, 16149.56it/s]\n"
     ]
    }
   ],
   "source": [
    "mecab = Mecab()\n",
    "tokenized_doc = [mecab.morphs(doc) for doc in tqdm(docs)]\n",
    "tokenized_q = [mecab.morphs(q) for q in tqdm(queries)]"
   ]
  },
  {
   "cell_type": "code",
   "execution_count": 8,
   "metadata": {},
   "outputs": [],
   "source": [
    "grouped_docs = defaultdict(list)\n",
    "grouped_tokens = defaultdict(list)\n",
    "doc_id_mapping = defaultdict(list)\n",
    "\n",
    "for doc_id, tokens, doc in zip(doc_ids, tokenized_doc, docs):\n",
    "    key = doc_id.rsplit(' ', 1)[0]\n",
    "    grouped_docs[key].append(doc)\n",
    "    grouped_tokens[key].append(tokens)\n",
    "    doc_id_mapping[key].append(doc_id)\n",
    "\n",
    "bm25_dict = {key: BM25Okapi(grouped_tokens[key], b=1.0, k1=2.5) for key in grouped_tokens}\n"
   ]
  },
  {
   "cell_type": "code",
   "execution_count": 21,
   "metadata": {},
   "outputs": [
    {
     "name": "stderr",
     "output_type": "stream",
     "text": [
      "100%|██████████| 490/490 [00:00<00:00, 880.21it/s] "
     ]
    },
    {
     "name": "stdout",
     "output_type": "stream",
     "text": [
      "0.5489795918367347\n",
      "0.8448979591836735\n",
      "0.8938775510204081\n",
      "0.9306122448979591\n",
      "[]\n"
     ]
    },
    {
     "name": "stderr",
     "output_type": "stream",
     "text": [
      "\n"
     ]
    }
   ],
   "source": [
    "top_k = 20\n",
    "\n",
    "recall1, recall5, recall10, recall20 = 0, 0, 0, 0\n",
    "\n",
    "missed = []\n",
    "for i, tq in enumerate(tqdm(tokenized_q)):\n",
    "\n",
    "    source = q_source[i] # 어떤 pdf를 검색해라\n",
    "    answers = q_answers[i]  # 그 pdf의 page list\n",
    "    doc_scores = bm25_dict[source].get_scores(tq)\n",
    "    top_indices = np.argsort(doc_scores)[-top_k:][::-1]\n",
    "\n",
    "    for rank, idx in enumerate(top_indices):\n",
    "        if doc_id_mapping[source][idx] in answers:\n",
    "            if rank < 1:\n",
    "                recall1 += 1\n",
    "            if rank < 5:\n",
    "                recall5 += 1\n",
    "            if rank < 10:\n",
    "                recall10 += 1\n",
    "            if rank < 20:\n",
    "                recall20 += 1\n",
    "            break\n",
    "\n",
    "print(recall1 / len(tokenized_q))\n",
    "print(recall5 / len(tokenized_q))\n",
    "print(recall10 / len(tokenized_q))\n",
    "print(recall20 / len(tokenized_q))\n",
    "\n",
    "print(missed)"
   ]
  }
 ],
 "metadata": {
  "kernelspec": {
   "display_name": "mecab",
   "language": "python",
   "name": "python3"
  },
  "language_info": {
   "codemirror_mode": {
    "name": "ipython",
    "version": 3
   },
   "file_extension": ".py",
   "mimetype": "text/x-python",
   "name": "python",
   "nbconvert_exporter": "python",
   "pygments_lexer": "ipython3",
   "version": "3.10.14"
  }
 },
 "nbformat": 4,
 "nbformat_minor": 2
}
